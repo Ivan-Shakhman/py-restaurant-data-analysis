{
 "cells": [
  {
   "cell_type": "code",
   "metadata": {
    "collapsed": true,
    "pycharm": {
     "name": "#%%\n"
    }
   },
   "source": [
    "import pandas as pd\n",
    "import numpy as np\n",
    "import sqlite3\n",
    "import matplotlib.pyplot as plt"
   ],
   "outputs": [],
   "execution_count": null
  },
  {
   "cell_type": "markdown",
   "source": [
    "# Task 0\n",
    "Data extraction: get the data from 3 tables & combine it into single `.csv` file.\n",
    "After that read this file using pandas to create Dataframe.\n",
    "So it will be all joined data in 1 dataframe. Quick check - should be 74818 rows in it."
   ],
   "metadata": {
    "collapsed": false,
    "pycharm": {
     "name": "#%% md\n"
    }
   }
  },
  {
   "cell_type": "code",
   "source": [
    "conn = sqlite3.connect('../db.sqlite3')\n",
    "table1 = pd.read_sql('SELECT * FROM restaurant_order', conn)\n",
    "table2 = pd.read_sql('SELECT * FROM restaurant_orderitem', conn)\n",
    "table3 = pd.read_sql('SELECT * FROM restaurant_product', conn)\n",
    "combined_df = pd.concat([table1, table2, table3], ignore_index=True)\n",
    "combined_df.to_csv('combined_data.csv', index=False)\n",
    "final_df = pd.read_csv('combined_data.csv')\n",
    "conn.close()"
   ],
   "metadata": {
    "collapsed": false,
    "pycharm": {
     "name": "#%%\n"
    }
   },
   "outputs": [],
   "execution_count": null
  },
  {
   "cell_type": "markdown",
   "source": [
    "# Task 1\n",
    "Get Top 10 most popular products in restaurant sold by Quantity.\n",
    "Count how many times each product was sold and create a pie chart with percentage of popularity (by quantity) for top 10 of them.\n",
    "\n",
    "Example:\n",
    "\n",
    "![pie chart](../demo/pie.png)"
   ],
   "metadata": {
    "collapsed": false,
    "pycharm": {
     "name": "#%% md\n"
    }
   }
  },
  {
   "cell_type": "code",
   "source": [
    "df = pd.read_csv('combined_data.csv')\n",
    "product_sales = df['product'].value_counts().head(10)\n",
    "plt.figure(figsize=(8, 8))\n",
    "plt.pie(product_sales, labels=product_sales.index, autopct='%1.1f%%', startangle=140, colors=plt.cm.Paired.colors)\n",
    "plt.title('Top 10 Most Popular Products by Quantity')\n",
    "plt.show()"
   ],
   "metadata": {
    "collapsed": false,
    "pycharm": {
     "name": "#%%\n"
    }
   },
   "outputs": [],
   "execution_count": null
  },
  {
   "cell_type": "markdown",
   "source": [
    "# Task 2\n",
    "Calculate `Item Price` (Product Price * Quantity) for each Order Item in dataframe.\n",
    "And Make the same Top 10 pie chart, but this time by `Item Price`. So this chart should describe not the most popular products by quantity, but which products (top 10) make the most money for restaurant. It should be also with percentage."
   ],
   "metadata": {
    "collapsed": false,
    "pycharm": {
     "name": "#%% md\n"
    }
   }
  },
  {
   "cell_type": "code",
   "source": [
    "df = pd.read_csv('combined_data.csv')\n",
    "df['Item Price'] = df['product_price'] * df['quantity']\n",
    "product_revenue = df.groupby('product')['Item Price'].sum().sort_values(ascending=False).head(10)\n",
    "\n",
    "plt.figure(figsize=(8, 8))\n",
    "plt.pie(product_revenue, labels=product_revenue.index, autopct='%1.1f%%', startangle=140, colors=plt.cm.Paired.colors)\n",
    "plt.title('Top 10 Products by Revenue (Item Price)')\n",
    "plt.show()"
   ],
   "metadata": {
    "collapsed": false,
    "pycharm": {
     "name": "#%%\n",
     "is_executing": true
    }
   },
   "outputs": [],
   "execution_count": null
  },
  {
   "cell_type": "markdown",
   "source": [
    "# Task 3\n",
    "Calculate `Order Hour` based on `Order Datetime`, which will tell about the specific our the order was created (from 0 to 23). Using `Order Hour` create a bar chart, which will tell the total restaurant income based on the hour order was created. So on x-axis - it will be values from 0 to 23 (hours), on y-axis - it will be the total sum of order prices, which were sold on that hour.\n",
    "\n",
    "Example:\n",
    "\n",
    "![bar chart](../demo/bar.png)"
   ],
   "metadata": {
    "collapsed": false,
    "pycharm": {
     "name": "#%% md\n"
    }
   }
  },
  {
   "cell_type": "code",
   "source": [
    "df = pd.read_csv('combined_data.csv')\n",
    "df['Order Datetime'] = pd.to_datetime(df['order_datetime'])\n",
    "df['Order Hour'] = df['Order Datetime'].dt.hour\n",
    "df['Order Price'] = df['product_price'] * df['quantity']\n",
    "\n",
    "income_by_hour = df.groupby('Order Hour')['Order Price'].sum()\n",
    "\n",
    "plt.figure(figsize=(10, 6))\n",
    "income_by_hour.plot(kind='bar', color='lightblue', edgecolor='black')\n",
    "plt.title('Total Restaurant Income by Hour of Order')\n",
    "plt.xlabel('Hour of Day')\n",
    "plt.ylabel('Total Income')\n",
    "plt.xticks(range(24), rotation=0)\n",
    "plt.tight_layout()\n",
    "plt.show()"
   ],
   "metadata": {
    "collapsed": false,
    "pycharm": {
     "name": "#%%\n"
    }
   },
   "outputs": [],
   "execution_count": null
  },
  {
   "cell_type": "markdown",
   "source": [
    "# Task 4\n",
    "Make similar bar chart, but right now with `Order Day Of The Week` (from Monday to Sunday), and also analyze total restaurant income by each day of the week."
   ],
   "metadata": {
    "collapsed": false,
    "pycharm": {
     "name": "#%% md\n"
    }
   }
  },
  {
   "cell_type": "code",
   "source": [
    "df = pd.read_csv('combined_data.csv')\n",
    "df['Order Datetime'] = pd.to_datetime(df['order_datetime'])\n",
    "df['Order Day Of The Week'] = df['Order Datetime'].dt.day_name()\n",
    "df['Order Price'] = df['product_price'] * df['quantity']\n",
    "\n",
    "income_by_day = df.groupby('Order Day Of The Week')['Order Price'].sum()\n",
    "\n",
    "order_days = ['Monday', 'Tuesday', 'Wednesday', 'Thursday', 'Friday', 'Saturday', 'Sunday']\n",
    "income_by_day = income_by_day[order_days]\n",
    "\n",
    "plt.figure(figsize=(10, 6))\n",
    "income_by_day.plot(kind='bar', color='lightgreen', edgecolor='black')\n",
    "plt.title('Total Restaurant Income by Day of the Week')\n",
    "plt.xlabel('Day of the Week')\n",
    "plt.ylabel('Total Income')\n",
    "plt.xticks(rotation=45)\n",
    "plt.tight_layout()\n",
    "plt.show()"
   ],
   "metadata": {
    "collapsed": false,
    "pycharm": {
     "name": "#%%\n"
    }
   },
   "outputs": [],
   "execution_count": null
  }
 ],
 "metadata": {
  "kernelspec": {
   "display_name": "Python 3",
   "language": "python",
   "name": "python3"
  },
  "language_info": {
   "codemirror_mode": {
    "name": "ipython",
    "version": 2
   },
   "file_extension": ".py",
   "mimetype": "text/x-python",
   "name": "python",
   "nbconvert_exporter": "python",
   "pygments_lexer": "ipython2",
   "version": "2.7.6"
  }
 },
 "nbformat": 4,
 "nbformat_minor": 0
}
